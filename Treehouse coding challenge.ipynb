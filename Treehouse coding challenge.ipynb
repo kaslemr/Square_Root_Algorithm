{
 "cells": [
  {
   "cell_type": "code",
   "execution_count": 2,
   "metadata": {
    "collapsed": true
   },
   "outputs": [],
   "source": [
    "# Make a game that picks a random number between 1 and 10 and asks the \n",
    "#     user to guess a number\n",
    "# If the guess is wrong, tell the user if the guess is too high or too\n",
    "#     low, and let the user guess again\n",
    "# If the user guesses the right number, congratulate the user\n",
    "\n",
    "# Extra credit - limit the number of guesses, and tell the user \n",
    "# how many gusses the user has made\n",
    "\n",
    "#random number\n",
    "#list to store guesses\n",
    "#\n",
    "#ask for number (until guesses > 5)\n",
    "#if number is correct then - give yay high five\n",
    "#else\n",
    "# if number is too low, then tell person and go back to top, also store guess in list\n",
    "# if number is too high, then tell person and go back to top, store guess in list\n",
    "#continue until too many guesses\n",
    "#\n",
    "#if guesses > 5 -- sorry too bad losah\n",
    "#\n",
    "#\n",
    "#\n",
    "#\n",
    "#\n",
    "#"
   ]
  },
  {
   "cell_type": "code",
   "execution_count": 4,
   "metadata": {
    "collapsed": true
   },
   "outputs": [],
   "source": [
    "import random "
   ]
  },
  {
   "cell_type": "code",
   "execution_count": 11,
   "metadata": {
    "collapsed": false
   },
   "outputs": [
    {
     "name": "stdout",
     "output_type": "stream",
     "text": [
      "What is your name: \n",
      "matt\n",
      "Hello matt, we will be playing a game called numbers. I am thinking of a number between 1 and 10.\n",
      "Guess a number: \n",
      "4\n",
      "Number is too low\n",
      "Guess a number: \n",
      "5\n",
      "Number is too low\n",
      "Guess a number: \n",
      "5\n",
      "Number is too low\n",
      "Guess a number: \n",
      "5\n",
      "Number is too low\n",
      "Guess a number: \n",
      "5\n",
      "Number is too low\n",
      "sorry, I was thinking of 9 number\n"
     ]
    }
   ],
   "source": [
    "guesses_taken = 0\n",
    "\n",
    "print(\"What is your name: \")\n",
    "my_name = input()\n",
    "\n",
    "print('Hello {}, we will be playing a game called numbers. I am thinking of a number between 1 and 10.'.format(my_name))\n",
    "\n",
    "correct_num = random.randint(1,10)\n",
    "\n",
    "while guesses_taken < 5:\n",
    "    print(\"Guess a number: \")\n",
    "    guess = input()\n",
    "    guess = int(guess)\n",
    "    \n",
    "    guesses_taken = 1 + guesses_taken\n",
    "    \n",
    "    if guess > correct_num:\n",
    "        print('Number is too high')\n",
    "    \n",
    "    if guess < correct_num:\n",
    "        print('Number is too low')\n",
    "    \n",
    "    if guess == correct_num:\n",
    "        break\n",
    "\n",
    "if guess == correct_num:\n",
    "    guesses_taken= str(guesses_taken)\n",
    "    print('Good job, {}, you guessed it in {} tries'.format(my_name, guesses_taken))\n",
    "    \n",
    "if guess != correct_num:\n",
    "    print(\"sorry, I was thinking of {} number\".format(correct_num))\n",
    "          "
   ]
  },
  {
   "cell_type": "code",
   "execution_count": 23,
   "metadata": {
    "collapsed": false
   },
   "outputs": [
    {
     "data": {
      "text/plain": [
       "[0, 1, 2, 3, 4, 5, 6, 7, 8, 9]"
      ]
     },
     "execution_count": 23,
     "metadata": {},
     "output_type": "execute_result"
    }
   ],
   "source": [
    "a_list = [1,2,3]\n",
    "our_list = list(range(10))\n",
    "our_list"
   ]
  },
  {
   "cell_type": "code",
   "execution_count": 24,
   "metadata": {
    "collapsed": false
   },
   "outputs": [
    {
     "data": {
      "text/plain": [
       "[0, 1, 2, 3, 4, 5, 6, 7, 8, 9, 10, 11, 12]"
      ]
     },
     "execution_count": 24,
     "metadata": {},
     "output_type": "execute_result"
    }
   ],
   "source": [
    "our_list = our_list + [10,11,12]\n",
    "our_list"
   ]
  },
  {
   "cell_type": "code",
   "execution_count": 33,
   "metadata": {
    "collapsed": false
   },
   "outputs": [
    {
     "data": {
      "text/plain": [
       "['a', 'b', 'c', 'd', 'e', 'f']"
      ]
     },
     "execution_count": 33,
     "metadata": {},
     "output_type": "execute_result"
    }
   ],
   "source": [
    "#extend and insert\n",
    "our_list.extend(range(13,21))\n",
    "our_list\n",
    "alpha = list('acdf')\n",
    "alpha\n",
    "alpha.insert(1,'b')\n",
    "alpha.insert(4,'e')\n",
    "alpha"
   ]
  },
  {
   "cell_type": "code",
   "execution_count": 51,
   "metadata": {
    "collapsed": false
   },
   "outputs": [
    {
     "data": {
      "text/plain": [
       "['str']"
      ]
     },
     "execution_count": 51,
     "metadata": {},
     "output_type": "execute_result"
    }
   ],
   "source": [
    "#shopping_list_3"
   ]
  },
  {
   "cell_type": "code",
   "execution_count": 52,
   "metadata": {
    "collapsed": false
   },
   "outputs": [
    {
     "ename": "SyntaxError",
     "evalue": "invalid syntax (<ipython-input-52-a975b1a82500>, line 3)",
     "output_type": "error",
     "traceback": [
      "\u001b[0;36m  File \u001b[0;32m\"<ipython-input-52-a975b1a82500>\"\u001b[0;36m, line \u001b[0;32m3\u001b[0m\n\u001b[0;31m    def show_help\u001b[0m\n\u001b[0m                 ^\u001b[0m\n\u001b[0;31mSyntaxError\u001b[0m\u001b[0;31m:\u001b[0m invalid syntax\n"
     ]
    }
   ],
   "source": [
    "shopping_list = []\n",
    "\n",
    "def show_help\n",
    "    print(\"\\n Separate each item with a comma.\")\n",
    "    print(\"Type DONE to quit, SHOW to show the current list, and HELP to get this message.\")\n",
    "\n",
    "def show_list():\n",
    "    count = 1 \n",
    "    for item in shopping list:\n",
    "        print(\"{}: {}\").format(count, item))\n",
    "        count += 1\n",
    "\n",
    "print(\"Give me a list of things you want to show for.\")\n",
    "show_help()\n",
    "\n",
    "while True:\n",
    "    new_stuff = input(\"> \")\n",
    "    \n",
    "    if new_stuff == \"DONE\":\n",
    "        print('Heres your list')\n",
    "        show_list()\n",
    "        break\n",
    "    elif new_stuff = \"HELP\"\n",
    "        show_help()\n",
    "        continue \n",
    "    elif new_stuff = \"SHOW\"\n",
    "        show_help()\n",
    "        continue\n",
    "    else:\n",
    "        new_list = new.stuff.split(\",\")\n",
    "        index = input(\"add this at a certain spot? Press enter for the end of the list, or give me a number. Currently {} items in the list.\".format(len(shopping_list))\n",
    "        if index:\n",
    "            spot = int(index) - 1\n",
    "            for item in new_list:\n",
    "                shopping_list.insert(spot, item.strip())\n",
    "                spot += 1\n",
    "    "
   ]
  },
  {
   "cell_type": "code",
   "execution_count": null,
   "metadata": {
    "collapsed": true
   },
   "outputs": [],
   "source": []
  }
 ],
 "metadata": {
  "kernelspec": {
   "display_name": "Python 3",
   "language": "python",
   "name": "python3"
  },
  "language_info": {
   "codemirror_mode": {
    "name": "ipython",
    "version": 3
   },
   "file_extension": ".py",
   "mimetype": "text/x-python",
   "name": "python",
   "nbconvert_exporter": "python",
   "pygments_lexer": "ipython3",
   "version": "3.5.0"
  }
 },
 "nbformat": 4,
 "nbformat_minor": 0
}
