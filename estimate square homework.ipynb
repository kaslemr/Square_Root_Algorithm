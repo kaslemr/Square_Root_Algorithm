{
 "cells": [
  {
   "cell_type": "code",
   "execution_count": 52,
   "metadata": {
    "collapsed": false
   },
   "outputs": [],
   "source": [
    "import math\n",
    "import random\n",
    "\n",
    "\n",
    "\n",
    "\n"
   ]
  },
  {
   "cell_type": "code",
   "execution_count": 30,
   "metadata": {
    "collapsed": false
   },
   "outputs": [
    {
     "name": "stdout",
     "output_type": "stream",
     "text": [
      "Your number is 127\n"
     ]
    }
   ],
   "source": [
    "chosen_number = random.randrange(200)\n",
    "\n",
    "print(\"Your number is {}\".format(chosen_number))"
   ]
  },
  {
   "cell_type": "code",
   "execution_count": 117,
   "metadata": {
    "collapsed": false
   },
   "outputs": [
    {
     "name": "stdout",
     "output_type": "stream",
     "text": [
      "55.41802905215819\n"
     ]
    }
   ],
   "source": [
    "# x = initial_guess\n",
    "# s = chosen_number\n",
    "\n",
    "initial_guess = random.uniform(0,chosen_number)\n",
    "\n",
    "s_dividedby_x = (chosen_number / first_guess)\n",
    "sqr_approximation = (s_dividedby_x + initial_guess) / 2\n",
    "print(sqr_approximation)"
   ]
  },
  {
   "cell_type": "code",
   "execution_count": 122,
   "metadata": {
    "collapsed": false
   },
   "outputs": [
    {
     "name": "stdout",
     "output_type": "stream",
     "text": [
      "54.012397668211\n",
      "28.181854845343324\n"
     ]
    }
   ],
   "source": [
    "new_estimate = ((initial_guess + (chosen_number / initial_guess ))/ 2)\n",
    "print(new_estimate)\n",
    "# need to replace initial_guess with new estimate\n",
    "\n",
    "new_estimate2 = ((new_estimate + (chosen_number / new_estimate ))/ 2)\n",
    "print(new_estimate2)"
   ]
  },
  {
   "cell_type": "code",
   "execution_count": 121,
   "metadata": {
    "collapsed": true
   },
   "outputs": [],
   "source": []
  },
  {
   "cell_type": "code",
   "execution_count": 128,
   "metadata": {
    "collapsed": false,
    "scrolled": true
   },
   "outputs": [
    {
     "ename": "SyntaxError",
     "evalue": "invalid syntax (<ipython-input-128-9a7dacfc595a>, line 1)",
     "output_type": "error",
     "traceback": [
      "\u001b[0;36m  File \u001b[0;32m\"<ipython-input-128-9a7dacfc595a>\"\u001b[0;36m, line \u001b[0;32m1\u001b[0m\n\u001b[0;31m    def estimate_sqr()\u001b[0m\n\u001b[0m                      ^\u001b[0m\n\u001b[0;31mSyntaxError\u001b[0m\u001b[0;31m:\u001b[0m invalid syntax\n"
     ]
    }
   ],
   "source": []
  },
  {
   "cell_type": "code",
   "execution_count": 190,
   "metadata": {
    "collapsed": false,
    "scrolled": true
   },
   "outputs": [
    {
     "name": "stdout",
     "output_type": "stream",
     "text": [
      "391 12 19.915926791277258 19.77422763726181 19.773719939802845 19.77371993328519 19.77371993328519\n"
     ]
    }
   ],
   "source": [
    "# s = number\n",
    "# sqr(s) = answer\n",
    "# x = initial guess\n",
    "\n",
    "s = random.randrange(500)\n",
    "x = random.randrange(0,s)\n",
    "x_1 = ((x + (s / x))/ 2)\n",
    "x_2 = ((x_1 + (s / x_1))/ 2)\n",
    "x_3 = ((x_2 + (s / x_2))/ 2)\n",
    "x_4 = ((x_3 + (s / x_3))/ 2)\n",
    "x_5 = ((x_4 + (s / x_4))/ 2)\n",
    "x_6 = ((x_5 + (s / x_5))/ 2)\n",
    "print(s,x,x_2,x_3,x_4,x_5, x_6)"
   ]
  },
  {
   "cell_type": "code",
   "execution_count": null,
   "metadata": {
    "collapsed": true
   },
   "outputs": [],
   "source": [
    "s = 200\n",
    "x = s/2\n",
    "while \n",
    "    \n",
    "    \n",
    "    "
   ]
  }
 ],
 "metadata": {
  "kernelspec": {
   "display_name": "Python 3",
   "language": "python",
   "name": "python3"
  },
  "language_info": {
   "codemirror_mode": {
    "name": "ipython",
    "version": 3
   },
   "file_extension": ".py",
   "mimetype": "text/x-python",
   "name": "python",
   "nbconvert_exporter": "python",
   "pygments_lexer": "ipython3",
   "version": "3.5.0"
  }
 },
 "nbformat": 4,
 "nbformat_minor": 0
}
