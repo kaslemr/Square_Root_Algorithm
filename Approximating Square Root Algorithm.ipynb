{
 "cells": [
  {
   "cell_type": "code",
   "execution_count": 60,
   "metadata": {
    "collapsed": false
   },
   "outputs": [],
   "source": [
    "import math\n",
    "import datetime"
   ]
  },
  {
   "cell_type": "markdown",
   "metadata": {},
   "source": [
    "Algorithm from September"
   ]
  },
  {
   "cell_type": "code",
   "execution_count": 81,
   "metadata": {
    "collapsed": false
   },
   "outputs": [
    {
     "name": "stdout",
     "output_type": "stream",
     "text": [
      "977\n",
      "124.61684505606524\n",
      "66.22843831546669\n",
      "40.490204647125715\n",
      "32.30974868080663\n",
      "31.274150099121606\n",
      "31.257003918985795\n",
      "31.25699921617592\n",
      "0:00:00.000108\n"
     ]
    }
   ],
   "source": [
    "number = random.randint(1,5000)\n",
    "print(number)\n",
    "previous_number = number / 2\n",
    "previous_number_two = (previous_number + number/previous_number) / 2\n",
    "\n",
    "\n",
    "while previous_number - previous_number_two > abs(.01):\n",
    "    start_time = datetime.datetime.now()\n",
    "    previous_number = (previous_number + number/previous_number) / 2 \n",
    "    previous_number_two = (previous_number + number/previous_number) / 2\n",
    "    print(previous_number_two)\n",
    "\n",
    "print(datetime.datetime.now() - start_time)\n"
   ]
  },
  {
   "cell_type": "markdown",
   "metadata": {},
   "source": [
    "### new algorithm 12/14 - I've learned a lot"
   ]
  },
  {
   "cell_type": "markdown",
   "metadata": {},
   "source": [
    "While the last algorithm took me all night to figure out, this took me about five minutes. "
   ]
  },
  {
   "cell_type": "code",
   "execution_count": 78,
   "metadata": {
    "collapsed": false
   },
   "outputs": [],
   "source": [
    "def find_square_root(number):\n",
    "    start_time = datetime.datetime.now()\n",
    "    approximation = number / 2\n",
    "    next_guess = (number/approximation + approximation) / 2\n",
    "    while abs(next_guess**2 - number) > .01:\n",
    "        next_guess = (number/approximation + approximation) / 2\n",
    "        approximation = next_guess\n",
    "    return \"The approximate square root is {}. It took {} seconds.\".format(approximation, \n",
    "\n"
   ]
  },
  {
   "cell_type": "code",
   "execution_count": 82,
   "metadata": {
    "collapsed": false
   },
   "outputs": [
    {
     "data": {
      "text/plain": [
       "'The approximate square root is 1000.0000000000118. It took 0:00:00.000026 seconds.'"
      ]
     },
     "execution_count": 82,
     "metadata": {},
     "output_type": "execute_result"
    }
   ],
   "source": [
    "find_square_root(1000000)"
   ]
  },
  {
   "cell_type": "code",
   "execution_count": 8,
   "metadata": {
    "collapsed": true
   },
   "outputs": [],
   "source": [
    "# constant_guess = (previous_answer + (number/previous_answer))/number\n",
    "# previous_answer"
   ]
  },
  {
   "cell_type": "code",
   "execution_count": null,
   "metadata": {
    "collapsed": true
   },
   "outputs": [],
   "source": []
  }
 ],
 "metadata": {
  "kernelspec": {
   "display_name": "Python 3",
   "language": "python",
   "name": "python3"
  },
  "language_info": {
   "codemirror_mode": {
    "name": "ipython",
    "version": 3
   },
   "file_extension": ".py",
   "mimetype": "text/x-python",
   "name": "python",
   "nbconvert_exporter": "python",
   "pygments_lexer": "ipython3",
   "version": "3.5.0"
  }
 },
 "nbformat": 4,
 "nbformat_minor": 0
}
