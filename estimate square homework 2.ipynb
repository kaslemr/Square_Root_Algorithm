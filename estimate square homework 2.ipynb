{
 "cells": [
  {
   "cell_type": "code",
   "execution_count": 23,
   "metadata": {
    "collapsed": false
   },
   "outputs": [],
   "source": [
    "initial_num = 2\n",
    "first_guess = initial_num / 2\n",
    "first_guess = int(first_guess)\n",
    "second_approx = (first_guess + (initial_num / first_approx)) / 2\n",
    "third_approx = "
   ]
  },
  {
   "cell_type": "code",
   "execution_count": 26,
   "metadata": {
    "collapsed": false
   },
   "outputs": [
    {
     "name": "stdout",
     "output_type": "stream",
     "text": [
      "(250, 125.0, 33.718503937007874, 20.566415258830283, 16.361077711627484, 15.820622363953614, 15.811390995676511)\n"
     ]
    }
   ],
   "source": [
    "# s = number\n",
    "# sqr(s) = answer\n",
    "# x = initial guess\n",
    "\n",
    "def square_roots(s):\n",
    "    x = s/2\n",
    "\n",
    "    x_1 = ((x + (s / x))/ 2)\n",
    "    x_2 = ((x_1 + (s / x_1))/ 2)\n",
    "    x_3 = ((x_2 + (s / x_2))/ 2)\n",
    "    x_4 = ((x_3 + (s / x_3))/ 2)\n",
    "    x_5 = ((x_4 + (s / x_4))/ 2)\n",
    "    x_6 = ((x_5 + (s / x_5))/ 2)\n",
    "    return s,x,x_2,x_3,x_4,x_5, x_6\n",
    "\n",
    "print(square_roots(250))"
   ]
  },
  {
   "cell_type": "code",
   "execution_count": 2,
   "metadata": {
    "collapsed": false
   },
   "outputs": [
    {
     "data": {
      "text/plain": [
       "1.5"
      ]
     },
     "execution_count": 2,
     "metadata": {},
     "output_type": "execute_result"
    }
   ],
   "source": [
    "(1 + (2/1)) /2"
   ]
  },
  {
   "cell_type": "code",
   "execution_count": 33,
   "metadata": {
    "collapsed": false
   },
   "outputs": [],
   "source": [
    "import math\n",
    "import random"
   ]
  },
  {
   "cell_type": "code",
   "execution_count": 42,
   "metadata": {
    "collapsed": false
   },
   "outputs": [
    {
     "name": "stdout",
     "output_type": "stream",
     "text": [
      "600\n",
      "77.48675496688742\n",
      "42.61500690098997\n",
      "28.34727703769651\n",
      "24.756665580003258\n",
      "24.496281349371415\n",
      "24.494897466924222\n",
      " \n",
      "4684\n",
      "587.9982935153583\n",
      "297.9821515143738\n",
      "156.85060690057162\n",
      "93.35670885749985\n",
      "71.76492858781589\n",
      "68.51678925020171\n",
      "68.43979783487116\n",
      "68.43975452908839\n"
     ]
    }
   ],
   "source": [
    "number = 600\n",
    "print(number)\n",
    "previous_number = number / 2\n",
    "\n",
    "while previous_number - previous_number_two > abs(.01):\n",
    "    previous_number = (previous_number + number/previous_number) / 2 \n",
    "    previous_number_two = (previous_number + number/previous_number) / 2\n",
    "    print(previous_number_two)\n",
    "print (' ')\n",
    "    \n",
    "number = random.randint(1,5000)\n",
    "print(number)\n",
    "previous_number = number / 2\n",
    "\n",
    "while previous_number - previous_number_two > abs(.01):\n",
    "    previous_number = (previous_number + number/previous_number) / 2 \n",
    "    previous_number_two = (previous_number + number/previous_number) / 2\n",
    "    print(previous_number_two)"
   ]
  },
  {
   "cell_type": "code",
   "execution_count": 8,
   "metadata": {
    "collapsed": true
   },
   "outputs": [],
   "source": []
  },
  {
   "cell_type": "code",
   "execution_count": null,
   "metadata": {
    "collapsed": true
   },
   "outputs": [],
   "source": []
  }
 ],
 "metadata": {
  "kernelspec": {
   "display_name": "Python 3",
   "language": "python",
   "name": "python3"
  },
  "language_info": {
   "codemirror_mode": {
    "name": "ipython",
    "version": 3
   },
   "file_extension": ".py",
   "mimetype": "text/x-python",
   "name": "python",
   "nbconvert_exporter": "python",
   "pygments_lexer": "ipython3",
   "version": "3.5.0"
  }
 },
 "nbformat": 4,
 "nbformat_minor": 0
}
